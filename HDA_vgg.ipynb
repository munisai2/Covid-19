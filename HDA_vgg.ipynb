{
  "nbformat": 4,
  "nbformat_minor": 0,
  "metadata": {
    "colab": {
      "provenance": []
    },
    "kernelspec": {
      "name": "python3",
      "display_name": "Python 3"
    },
    "language_info": {
      "name": "python"
    }
  },
  "cells": [
    {
      "cell_type": "code",
      "source": [
        "from keras.layers import Input, Lambda, Dense, Flatten\n",
        "from keras.models import Model\n",
        "from keras.applications.vgg16 import VGG16\n",
        "from keras.applications.vgg16 import preprocess_input\n",
        "from keras.preprocessing import image\n",
        "from keras.preprocessing.image import ImageDataGenerator\n",
        "from keras.models import Sequential\n",
        "import numpy as np\n",
        "from glob import glob\n",
        "import matplotlib.pyplot as plt"
      ],
      "metadata": {
        "id": "zSO0aRNHXd1H"
      },
      "execution_count": null,
      "outputs": []
    },
    {
      "cell_type": "code",
      "source": [
        "size = [224, 224]"
      ],
      "metadata": {
        "id": "KAb3mwopiI8b"
      },
      "execution_count": null,
      "outputs": []
    },
    {
      "cell_type": "code",
      "source": [
        "from google.colab import drive\n",
        "drive.mount('/content/drive')"
      ],
      "metadata": {
        "colab": {
          "base_uri": "https://localhost:8080/"
        },
        "id": "0tIKbLufroUP",
        "outputId": "db732d33-6bbe-4343-ac2e-78b99d1a2263"
      },
      "execution_count": null,
      "outputs": [
        {
          "output_type": "stream",
          "name": "stdout",
          "text": [
            "Drive already mounted at /content/drive; to attempt to forcibly remount, call drive.mount(\"/content/drive\", force_remount=True).\n"
          ]
        }
      ]
    },
    {
      "cell_type": "code",
      "source": [
        "training_data = '/content/drive/MyDrive/HDA2/Covid19-dataset/train'\n",
        "test_data = '/content/drive/MyDrive/HDA2/Covid19-dataset/test'"
      ],
      "metadata": {
        "id": "p7QLZbm6rqHs"
      },
      "execution_count": null,
      "outputs": []
    },
    {
      "cell_type": "code",
      "source": [
        "vgg = VGG16(input_shape=size + [3], weights='imagenet', include_top=False)"
      ],
      "metadata": {
        "id": "gqa9HI9Ar_Ve",
        "colab": {
          "base_uri": "https://localhost:8080/"
        },
        "outputId": "30ebd998-15ce-4670-9009-04a64ce1381a"
      },
      "execution_count": null,
      "outputs": [
        {
          "output_type": "stream",
          "name": "stdout",
          "text": [
            "Downloading data from https://storage.googleapis.com/tensorflow/keras-applications/vgg16/vgg16_weights_tf_dim_ordering_tf_kernels_notop.h5\n",
            "58889256/58889256 [==============================] - 0s 0us/step\n"
          ]
        }
      ]
    },
    {
      "cell_type": "code",
      "source": [
        "for layer in vgg.layers:\n",
        "  layer.trainable = False"
      ],
      "metadata": {
        "id": "h7rTWjk5sFEe"
      },
      "execution_count": null,
      "outputs": []
    },
    {
      "cell_type": "code",
      "source": [
        "data = glob('/content/drive/MyDrive/HDA2/Covid19-dataset/train/*')"
      ],
      "metadata": {
        "id": "azbac4QosI7n"
      },
      "execution_count": null,
      "outputs": []
    },
    {
      "cell_type": "code",
      "source": [
        "x = Flatten()(vgg.output)\n",
        "prediction = Dense(len(data), activation='softmax')(x)"
      ],
      "metadata": {
        "id": "bweNfvyCsOgf"
      },
      "execution_count": null,
      "outputs": []
    },
    {
      "cell_type": "code",
      "source": [
        "model = Model(inputs=vgg.input, outputs=prediction)\n",
        "model.summary()"
      ],
      "metadata": {
        "colab": {
          "base_uri": "https://localhost:8080/"
        },
        "id": "Dm0xFLMosROs",
        "outputId": "ae80e535-1fba-442e-fe0f-3a420f02a23d"
      },
      "execution_count": null,
      "outputs": [
        {
          "output_type": "stream",
          "name": "stdout",
          "text": [
            "Model: \"model\"\n",
            "_________________________________________________________________\n",
            " Layer (type)                Output Shape              Param #   \n",
            "=================================================================\n",
            " input_1 (InputLayer)        [(None, 224, 224, 3)]     0         \n",
            "                                                                 \n",
            " block1_conv1 (Conv2D)       (None, 224, 224, 64)      1792      \n",
            "                                                                 \n",
            " block1_conv2 (Conv2D)       (None, 224, 224, 64)      36928     \n",
            "                                                                 \n",
            " block1_pool (MaxPooling2D)  (None, 112, 112, 64)      0         \n",
            "                                                                 \n",
            " block2_conv1 (Conv2D)       (None, 112, 112, 128)     73856     \n",
            "                                                                 \n",
            " block2_conv2 (Conv2D)       (None, 112, 112, 128)     147584    \n",
            "                                                                 \n",
            " block2_pool (MaxPooling2D)  (None, 56, 56, 128)       0         \n",
            "                                                                 \n",
            " block3_conv1 (Conv2D)       (None, 56, 56, 256)       295168    \n",
            "                                                                 \n",
            " block3_conv2 (Conv2D)       (None, 56, 56, 256)       590080    \n",
            "                                                                 \n",
            " block3_conv3 (Conv2D)       (None, 56, 56, 256)       590080    \n",
            "                                                                 \n",
            " block3_pool (MaxPooling2D)  (None, 28, 28, 256)       0         \n",
            "                                                                 \n",
            " block4_conv1 (Conv2D)       (None, 28, 28, 512)       1180160   \n",
            "                                                                 \n",
            " block4_conv2 (Conv2D)       (None, 28, 28, 512)       2359808   \n",
            "                                                                 \n",
            " block4_conv3 (Conv2D)       (None, 28, 28, 512)       2359808   \n",
            "                                                                 \n",
            " block4_pool (MaxPooling2D)  (None, 14, 14, 512)       0         \n",
            "                                                                 \n",
            " block5_conv1 (Conv2D)       (None, 14, 14, 512)       2359808   \n",
            "                                                                 \n",
            " block5_conv2 (Conv2D)       (None, 14, 14, 512)       2359808   \n",
            "                                                                 \n",
            " block5_conv3 (Conv2D)       (None, 14, 14, 512)       2359808   \n",
            "                                                                 \n",
            " block5_pool (MaxPooling2D)  (None, 7, 7, 512)         0         \n",
            "                                                                 \n",
            " flatten (Flatten)           (None, 25088)             0         \n",
            "                                                                 \n",
            " dense (Dense)               (None, 3)                 75267     \n",
            "                                                                 \n",
            "=================================================================\n",
            "Total params: 14789955 (56.42 MB)\n",
            "Trainable params: 75267 (294.01 KB)\n",
            "Non-trainable params: 14714688 (56.13 MB)\n",
            "_________________________________________________________________\n"
          ]
        }
      ]
    },
    {
      "cell_type": "code",
      "source": [
        "model.compile(loss='categorical_crossentropy',optimizer='adam',metrics=['accuracy'])"
      ],
      "metadata": {
        "id": "5Y5S7nCwsWnr"
      },
      "execution_count": null,
      "outputs": []
    },
    {
      "cell_type": "code",
      "source": [
        "from keras.preprocessing.image import ImageDataGenerator"
      ],
      "metadata": {
        "id": "LMQ9qkmIsa5A"
      },
      "execution_count": null,
      "outputs": []
    },
    {
      "cell_type": "code",
      "source": [
        "train_img = ImageDataGenerator(rescale = 1./255,shear_range = 0.25,zoom_range = 0.3)\n",
        "test_img = ImageDataGenerator(rescale = 1./255)"
      ],
      "metadata": {
        "id": "Vuul8Mt6sdH5"
      },
      "execution_count": null,
      "outputs": []
    },
    {
      "cell_type": "code",
      "source": [
        "training_set = train_img.flow_from_directory('/content/drive/MyDrive/HDA2/Covid19-dataset/train',target_size=size)"
      ],
      "metadata": {
        "colab": {
          "base_uri": "https://localhost:8080/"
        },
        "id": "YE2ix4z3shnn",
        "outputId": "0f617627-bd08-41a0-cf17-f35d01c0a419"
      },
      "execution_count": null,
      "outputs": [
        {
          "output_type": "stream",
          "name": "stdout",
          "text": [
            "Found 251 images belonging to 3 classes.\n"
          ]
        }
      ]
    },
    {
      "cell_type": "code",
      "source": [
        "testing_set = test_img.flow_from_directory('/content/drive/MyDrive/HDA2/Covid19-dataset/test',\n",
        "                                            target_size = (224, 224),\n",
        "                                            batch_size = 8,\n",
        "                                            class_mode = 'categorical')"
      ],
      "metadata": {
        "colab": {
          "base_uri": "https://localhost:8080/"
        },
        "id": "PUZe3motsuSf",
        "outputId": "0956c780-4aae-4d74-b0c4-5e8a4a96bfc6"
      },
      "execution_count": null,
      "outputs": [
        {
          "output_type": "stream",
          "name": "stdout",
          "text": [
            "Found 66 images belonging to 3 classes.\n"
          ]
        }
      ]
    },
    {
      "cell_type": "code",
      "source": [
        "\n",
        "r = model.fit(\n",
        "  training_set,\n",
        "  validation_data=testing_set,\n",
        "  epochs=6,\n",
        "  steps_per_epoch=len(training_set),\n",
        "  validation_steps=len(testing_set)\n",
        ")"
      ],
      "metadata": {
        "colab": {
          "base_uri": "https://localhost:8080/"
        },
        "id": "BynjCa8YtGIa",
        "outputId": "7881526e-7688-41c0-cbd9-be7dcd1c1fa0"
      },
      "execution_count": null,
      "outputs": [
        {
          "output_type": "stream",
          "name": "stdout",
          "text": [
            "Epoch 1/6\n",
            "8/8 [==============================] - 134s 16s/step - loss: 1.1719 - accuracy: 0.5657 - val_loss: 0.9283 - val_accuracy: 0.5909\n",
            "Epoch 2/6\n",
            "8/8 [==============================] - 123s 16s/step - loss: 0.4560 - accuracy: 0.7968 - val_loss: 0.2575 - val_accuracy: 0.9242\n",
            "Epoch 3/6\n",
            "8/8 [==============================] - 123s 16s/step - loss: 0.2259 - accuracy: 0.9004 - val_loss: 0.2070 - val_accuracy: 0.9242\n",
            "Epoch 4/6\n",
            "8/8 [==============================] - 123s 16s/step - loss: 0.1756 - accuracy: 0.9283 - val_loss: 0.2052 - val_accuracy: 0.9091\n",
            "Epoch 5/6\n",
            "8/8 [==============================] - 124s 16s/step - loss: 0.1454 - accuracy: 0.9562 - val_loss: 0.1602 - val_accuracy: 0.9697\n",
            "Epoch 6/6\n",
            "8/8 [==============================] - 140s 18s/step - loss: 0.1087 - accuracy: 0.9761 - val_loss: 0.1936 - val_accuracy: 0.9091\n"
          ]
        }
      ]
    },
    {
      "cell_type": "code",
      "source": [
        "model.save('Lung_disease_pred_vgg.h5')"
      ],
      "metadata": {
        "colab": {
          "base_uri": "https://localhost:8080/"
        },
        "id": "fPLboETOxEps",
        "outputId": "88ac07ed-2ddc-4578-8662-d3662b7f68cd"
      },
      "execution_count": null,
      "outputs": [
        {
          "output_type": "stream",
          "name": "stderr",
          "text": [
            "/usr/local/lib/python3.10/dist-packages/keras/src/engine/training.py:3000: UserWarning: You are saving your model as an HDF5 file via `model.save()`. This file format is considered legacy. We recommend using instead the native Keras format, e.g. `model.save('my_model.keras')`.\n",
            "  saving_api.save_model(\n"
          ]
        }
      ]
    },
    {
      "cell_type": "code",
      "source": [
        "from keras.models import load_model\n",
        "from sklearn.metrics import accuracy_score, classification_report, confusion_matrix, roc_auc_score\n",
        "from sklearn.metrics import roc_curve, auc\n",
        "import matplotlib.pyplot as plt\n",
        "import numpy as np\n",
        "\n",
        "\n",
        "model_vgg = load_model('/content/drive/MyDrive/HDA2/Lung_disease_pred_vgg.h5')"
      ],
      "metadata": {
        "id": "4TgJ_eeCxAjR"
      },
      "execution_count": null,
      "outputs": []
    },
    {
      "cell_type": "code",
      "source": [
        "\n",
        "y_pred_vgg = model_vgg.predict(testing_set)\n",
        "\n",
        "\n",
        "y_pred_classes_vgg = np.argmax(y_pred_vgg, axis=1)\n",
        "y_true_classes = testing_set.classes\n",
        "\n",
        "accuracy_vgg = accuracy_score(y_true_classes, y_pred_classes_vgg)\n",
        "print(\"Accuracy (vgg):\", accuracy_vgg)\n",
        "\n",
        "\n",
        "print(\"Classification Report (vgg):\")\n",
        "print(classification_report(y_true_classes, y_pred_classes_vgg))\n",
        "\n",
        "\n",
        "conf_matrix_vgg = confusion_matrix(y_true_classes, y_pred_classes_vgg)\n",
        "print(\"Confusion Matrix (vgg):\")\n",
        "print(conf_matrix_vgg)"
      ],
      "metadata": {
        "colab": {
          "base_uri": "https://localhost:8080/"
        },
        "id": "jM9vvC3WxMKv",
        "outputId": "b0b7ea2b-b414-40f0-d3b1-a843324e8574"
      },
      "execution_count": null,
      "outputs": [
        {
          "output_type": "stream",
          "name": "stdout",
          "text": [
            "9/9 [==============================] - 25s 3s/step\n",
            "Accuracy (vgg): 0.30303030303030304\n",
            "Classification Report (vgg):\n",
            "              precision    recall  f1-score   support\n",
            "\n",
            "           0       0.31      0.31      0.31        26\n",
            "           1       0.28      0.35      0.31        20\n",
            "           2       0.33      0.25      0.29        20\n",
            "\n",
            "    accuracy                           0.30        66\n",
            "   macro avg       0.31      0.30      0.30        66\n",
            "weighted avg       0.31      0.30      0.30        66\n",
            "\n",
            "Confusion Matrix (vgg):\n",
            "[[ 8 12  6]\n",
            " [ 9  7  4]\n",
            " [ 9  6  5]]\n"
          ]
        }
      ]
    },
    {
      "cell_type": "code",
      "source": [
        "import matplotlib.pyplot as plt\n",
        "from sklearn.metrics import RocCurveDisplay\n",
        "\n",
        "auroc_per_class = [roc_auc_score(y_true_classes == i, y_pred_vgg[:, i]) for i in range(len(data))]\n",
        "\n",
        "\n",
        "for i, auroc in enumerate(auroc_per_class):\n",
        "    print(f\"Class {i} AUROC (vgg): {auroc}\")\n",
        "\n"
      ],
      "metadata": {
        "colab": {
          "base_uri": "https://localhost:8080/"
        },
        "id": "4AFuUzMLxfWa",
        "outputId": "2eaf4d53-159b-4a79-ca89-dcb26c368ad1"
      },
      "execution_count": null,
      "outputs": [
        {
          "output_type": "stream",
          "name": "stdout",
          "text": [
            "Class 0 AUROC (vgg): 0.42500000000000004\n",
            "Class 1 AUROC (vgg): 0.42717391304347824\n",
            "Class 2 AUROC (vgg): 0.5358695652173913\n"
          ]
        }
      ]
    },
    {
      "cell_type": "code",
      "source": [
        "from PIL import Image\n",
        "image = '/content/drive/MyDrive/Covid19-dataset/test/Viral Pneumonia/0101.jpeg'\n",
        "image1 = Image.open(image)"
      ],
      "metadata": {
        "id": "1K2Xtaah-Nn4"
      },
      "execution_count": null,
      "outputs": []
    },
    {
      "cell_type": "code",
      "source": [],
      "metadata": {
        "id": "S6BvOGnHxLhc"
      },
      "execution_count": null,
      "outputs": []
    },
    {
      "cell_type": "code",
      "source": [
        "new_size = (224,224)\n",
        "\n",
        "\n",
        "resized_image = image1.resize(new_size)\n",
        "\n",
        "\n",
        "resized_image.save('output_image.jpg')"
      ],
      "metadata": {
        "id": "bgqx0niQ_vB8"
      },
      "execution_count": null,
      "outputs": []
    },
    {
      "cell_type": "code",
      "source": [
        "resized_image = np.array(resized_image)"
      ],
      "metadata": {
        "id": "LuolU-RSAj5i"
      },
      "execution_count": null,
      "outputs": []
    },
    {
      "cell_type": "code",
      "source": [
        "x = np.expand_dims(resized_image,axis=0)\n",
        "x = preprocess_input(x)"
      ],
      "metadata": {
        "id": "SoZJwpEOERJp"
      },
      "execution_count": null,
      "outputs": []
    },
    {
      "cell_type": "code",
      "source": [
        "a = model.predict(x)"
      ],
      "metadata": {
        "id": "dS2-rJGQFMgC"
      },
      "execution_count": null,
      "outputs": []
    },
    {
      "cell_type": "code",
      "source": [
        "  new_size = (224,224)\n",
        "\n",
        "\n",
        "resized_image = image1.resize(new_size)\n",
        "\n",
        "\n",
        "resized_image.save('output_image.jpg')"
      ],
      "metadata": {
        "id": "YdR8fk_IH1di"
      },
      "execution_count": null,
      "outputs": []
    },
    {
      "cell_type": "code",
      "source": [
        "resized_image = np.array(resized_image)\n",
        "x = np.expand_dims(resized_image,axis=0)\n",
        "x = preprocess_input(x)"
      ],
      "metadata": {
        "id": "iZwgZKflH7Vs"
      },
      "execution_count": null,
      "outputs": []
    },
    {
      "cell_type": "code",
      "source": [
        "x.shape"
      ],
      "metadata": {
        "id": "Ny0WxP1OIMbk"
      },
      "execution_count": null,
      "outputs": []
    },
    {
      "cell_type": "code",
      "source": [
        "np.argmax(model.predict(x))"
      ],
      "metadata": {
        "id": "YMzo0xpDICva"
      },
      "execution_count": null,
      "outputs": []
    },
    {
      "cell_type": "code",
      "source": [],
      "metadata": {
        "id": "YuDB29qCNnhR"
      },
      "execution_count": null,
      "outputs": []
    }
  ]
}